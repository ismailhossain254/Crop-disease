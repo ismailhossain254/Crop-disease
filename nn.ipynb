{
  "cells": [
    {
      "cell_type": "markdown",
      "metadata": {
        "id": "view-in-github",
        "colab_type": "text"
      },
      "source": [
        "<a href=\"https://colab.research.google.com/github/ismailhossain254/Plant-disease-detection-using-image-processing/blob/main/nn.ipynb\" target=\"_parent\"><img src=\"https://colab.research.google.com/assets/colab-badge.svg\" alt=\"Open In Colab\"/></a>"
      ]
    },
    {
      "cell_type": "code",
      "execution_count": null,
      "metadata": {
        "id": "e8PDbYlHsXyM"
      },
      "outputs": [],
      "source": [
        "import numpy as np\n",
        "import matplotlib.pyplot as plt\n",
        "from skimage import io\n",
        "import os\n",
        "from skimage.feature import hog\n",
        "from skimage.transform import rescale, resize\n"
      ]
    },
    {
      "cell_type": "code",
      "execution_count": null,
      "metadata": {
        "id": "hpvOALI8sXyP"
      },
      "outputs": [],
      "source": [
        "class Transformer():\n",
        "    def __init__(self, dirs: list, shape: tuple):\n",
        "        self.from_path = 'data'\n",
        "        self.dirs = dirs\n",
        "        self.shape = shape\n",
        "        self.resized_images = []\n",
        "        self.y_labels = []\n",
        "        self.labels = {self.dirs[index]:index for index in range(len(self.dirs))}\n",
        "        self.images = [f'{self.from_path}\\\\{d}\\\\{img}' for d in self.dirs\n",
        "                       for img in os.listdir(f'{self.from_path}\\\\{d}')\n",
        "                       ]\n",
        "\n",
        "    def transform(self):\n",
        "        for scaler in [1/2, 1/3]:\n",
        "            for img in self.images:\n",
        "                image = io.imread(img, as_gray=True)\n",
        "                scaled = rescale(image, scaler)\n",
        "                resized_img = resize(scaled, self.shape)\n",
        "                tr_image = hog(resized_img)\n",
        "                label = img.split('\\\\')[1]\n",
        "                self.resized_images.append(tr_image)\n",
        "                self.y_labels.append(self.labels[label])\n",
        "        return self.resized_images, self.y_labels\n"
      ]
    },
    {
      "cell_type": "code",
      "execution_count": null,
      "metadata": {
        "id": "bAXl9iDXsXyR"
      },
      "outputs": [],
      "source": [
        "t = Transformer(['Bacterial_leaf_blight', 'Brown_spot', 'Leaf_smut'], shape=(228,228))\n",
        "X, y = t.transform()"
      ]
    },
    {
      "cell_type": "code",
      "execution_count": null,
      "metadata": {
        "id": "HLXRd_iXsXyR",
        "outputId": "0101cf59-7cbe-45ae-90a7-96f0e36d9af1"
      },
      "outputs": [
        {
          "data": {
            "text/plain": [
              "(array([0.119536  , 0.06904979, 0.07501431, ..., 0.09565988, 0.11723656,\n",
              "        0.08156743]),\n",
              " 240)"
            ]
          },
          "execution_count": 58,
          "metadata": {},
          "output_type": "execute_result"
        }
      ],
      "source": [
        "X[0], len(X)"
      ]
    },
    {
      "cell_type": "code",
      "execution_count": null,
      "metadata": {
        "id": "yDINK451sXyS"
      },
      "outputs": [],
      "source": [
        "from sklearn.model_selection import train_test_split\n",
        "\n",
        "X_train, X_test, y_train, y_test = train_test_split(\n",
        "    X, y, test_size=0.25, random_state=42)\n"
      ]
    },
    {
      "cell_type": "code",
      "execution_count": null,
      "metadata": {
        "id": "bKqkfh3ssXyS",
        "outputId": "23db014a-8022-4f3c-cecf-37ff73b791d5"
      },
      "outputs": [
        {
          "data": {
            "text/plain": [
              "array([0.17344511, 0.03754656, 0.07342029, ..., 0.11180428, 0.11153699,\n",
              "       0.1122979 ])"
            ]
          },
          "execution_count": 61,
          "metadata": {},
          "output_type": "execute_result"
        }
      ],
      "source": [
        "xtrain = np.array([image for image in X_train])\n",
        "ytrain = np.array(y_train)\n",
        "xtrain[0]\n"
      ]
    },
    {
      "cell_type": "code",
      "execution_count": null,
      "metadata": {
        "id": "HCxnoDhvsXyT"
      },
      "outputs": [],
      "source": [
        "xtest = np.array([image for image in X_test])\n",
        "y_test = np.array(y_test)\n"
      ]
    },
    {
      "cell_type": "code",
      "execution_count": null,
      "metadata": {
        "id": "LdPa3bURsXyU"
      },
      "outputs": [],
      "source": [
        "X = np.array([image for image in X])\n",
        "y = np.array(y)"
      ]
    },
    {
      "cell_type": "code",
      "execution_count": null,
      "metadata": {
        "id": "-E_93YdtsXyU",
        "outputId": "0f7dfeb5-c246-45e5-9dd7-0578baabddb6"
      },
      "outputs": [
        {
          "data": {
            "text/plain": [
              "((54756,),\n",
              " array([0, 0, 0, 0, 0, 0, 0, 0, 0, 0, 0, 0, 0, 0, 0, 0, 0, 0, 0, 0, 0, 0,\n",
              "        0, 0, 0, 0, 0, 0, 0, 0, 0, 0, 0, 0, 0, 0, 0, 0, 0, 0, 1, 1, 1, 1,\n",
              "        1, 1, 1, 1, 1, 1, 1, 1, 1, 1, 1, 1, 1, 1, 1, 1, 1, 1, 1, 1, 1, 1,\n",
              "        1, 1, 1, 1, 1, 1, 1, 1, 1, 1, 1, 1, 1, 1, 2, 2, 2, 2, 2, 2, 2, 2,\n",
              "        2, 2, 2, 2, 2, 2, 2, 2, 2, 2, 2, 2, 2, 2, 2, 2, 2, 2, 2, 2, 2, 2,\n",
              "        2, 2, 2, 2, 2, 2, 2, 2, 2, 2, 0, 0, 0, 0, 0, 0, 0, 0, 0, 0, 0, 0,\n",
              "        0, 0, 0, 0, 0, 0, 0, 0, 0, 0, 0, 0, 0, 0, 0, 0, 0, 0, 0, 0, 0, 0,\n",
              "        0, 0, 0, 0, 0, 0, 1, 1, 1, 1, 1, 1, 1, 1, 1, 1, 1, 1, 1, 1, 1, 1,\n",
              "        1, 1, 1, 1, 1, 1, 1, 1, 1, 1, 1, 1, 1, 1, 1, 1, 1, 1, 1, 1, 1, 1,\n",
              "        1, 1, 2, 2, 2, 2, 2, 2, 2, 2, 2, 2, 2, 2, 2, 2, 2, 2, 2, 2, 2, 2,\n",
              "        2, 2, 2, 2, 2, 2, 2, 2, 2, 2, 2, 2, 2, 2, 2, 2, 2, 2, 2, 2]))"
            ]
          },
          "execution_count": 100,
          "metadata": {},
          "output_type": "execute_result"
        }
      ],
      "source": [
        "X[0].shape, y"
      ]
    },
    {
      "cell_type": "markdown",
      "metadata": {
        "id": "CvDtqOktsXyV"
      },
      "source": [
        "# Modeling"
      ]
    },
    {
      "cell_type": "code",
      "execution_count": null,
      "metadata": {
        "id": "qlN1QUk9sXyX",
        "outputId": "097fd6ef-ae99-42b3-c487-29875ee61050"
      },
      "outputs": [
        {
          "name": "stdout",
          "output_type": "stream",
          "text": [
            "Iteration 1, loss = 1.09948264\n",
            "Iteration 2, loss = 7.14116918\n",
            "Iteration 3, loss = 6.52176241\n",
            "Iteration 4, loss = 12.21927377\n",
            "Iteration 5, loss = 4.78024630\n",
            "Iteration 6, loss = 3.64399139\n",
            "Iteration 7, loss = 2.71311868\n",
            "Iteration 8, loss = 3.49790811\n",
            "Iteration 9, loss = 1.55066423\n",
            "Iteration 10, loss = 0.88038689\n",
            "Iteration 11, loss = 1.50246718\n",
            "Iteration 12, loss = 1.35306838\n",
            "Iteration 13, loss = 0.98134646\n",
            "Iteration 14, loss = 0.58985235\n",
            "Iteration 15, loss = 0.54956300\n",
            "Iteration 16, loss = 0.70102307\n",
            "Iteration 17, loss = 0.72123904\n",
            "Iteration 18, loss = 0.48721493\n",
            "Iteration 19, loss = 0.30002889\n",
            "Iteration 20, loss = 0.31246298\n",
            "Iteration 21, loss = 0.45278305\n",
            "Iteration 22, loss = 0.36990070\n",
            "Iteration 23, loss = 0.20858059\n",
            "Iteration 24, loss = 0.16476046\n",
            "Iteration 25, loss = 0.17005331\n",
            "Iteration 26, loss = 0.18590783\n",
            "Iteration 27, loss = 0.18185541\n",
            "Iteration 28, loss = 0.15124285\n",
            "Iteration 29, loss = 0.10800886\n",
            "Iteration 30, loss = 0.08027076\n",
            "Iteration 31, loss = 0.08100832\n",
            "Iteration 32, loss = 0.07493002\n",
            "Iteration 33, loss = 0.06998638\n",
            "Iteration 34, loss = 0.06954535\n",
            "Iteration 35, loss = 0.05765924\n",
            "Iteration 36, loss = 0.04259420\n",
            "Iteration 37, loss = 0.03353059\n",
            "Iteration 38, loss = 0.02726731\n",
            "Iteration 39, loss = 0.02194852\n",
            "Iteration 40, loss = 0.01851300\n",
            "Iteration 41, loss = 0.01707138\n",
            "Iteration 42, loss = 0.01676016\n",
            "Iteration 43, loss = 0.01651368\n",
            "Iteration 44, loss = 0.01533705\n",
            "Iteration 45, loss = 0.01359160\n",
            "Iteration 46, loss = 0.01178893\n",
            "Iteration 47, loss = 0.00995669\n",
            "Iteration 48, loss = 0.00839289\n",
            "Iteration 49, loss = 0.00720825\n",
            "Iteration 50, loss = 0.00634886\n",
            "Iteration 51, loss = 0.00572889\n",
            "Iteration 52, loss = 0.00527033\n",
            "Iteration 53, loss = 0.00492807\n",
            "Iteration 54, loss = 0.00463386\n",
            "Iteration 55, loss = 0.00442124\n",
            "Iteration 56, loss = 0.00417624\n",
            "Iteration 57, loss = 0.00388736\n",
            "Iteration 58, loss = 0.00363190\n",
            "Iteration 59, loss = 0.00338130\n",
            "Iteration 60, loss = 0.00313315\n",
            "Iteration 61, loss = 0.00289905\n",
            "Iteration 62, loss = 0.00267727\n",
            "Iteration 63, loss = 0.00247465\n",
            "Iteration 64, loss = 0.00230312\n",
            "Iteration 65, loss = 0.00217575\n",
            "Iteration 66, loss = 0.00206987\n",
            "Iteration 67, loss = 0.00197951\n",
            "Iteration 68, loss = 0.00190333\n",
            "Iteration 69, loss = 0.00183931\n",
            "Iteration 70, loss = 0.00178461\n",
            "Iteration 71, loss = 0.00173713\n",
            "Iteration 72, loss = 0.00169517\n",
            "Iteration 73, loss = 0.00165712\n",
            "Iteration 74, loss = 0.00162161\n",
            "Iteration 75, loss = 0.00158748\n",
            "Iteration 76, loss = 0.00155391\n",
            "Iteration 77, loss = 0.00152087\n",
            "Training loss did not improve more than tol=0.000100 for 10 consecutive epochs. Stopping.\n"
          ]
        },
        {
          "data": {
            "text/plain": [
              "MLPClassifier(hidden_layer_sizes=(784, 228), verbose=2)"
            ]
          },
          "execution_count": 63,
          "metadata": {},
          "output_type": "execute_result"
        }
      ],
      "source": [
        "from sklearn.neural_network import MLPClassifier\n",
        "\n",
        "nn = MLPClassifier(hidden_layer_sizes=(784, 228),\n",
        "                   activation='relu', verbose=2)\n",
        "nn.fit(xtrain, ytrain.ravel())"
      ]
    },
    {
      "cell_type": "code",
      "execution_count": null,
      "metadata": {
        "id": "3V_DQ4afsXyX",
        "outputId": "d21ab38c-0e6b-44cf-b522-5875d198d244"
      },
      "outputs": [
        {
          "data": {
            "text/plain": [
              "array([ True,  True,  True,  True,  True,  True, False,  True,  True,\n",
              "        True,  True,  True,  True,  True, False,  True,  True,  True,\n",
              "        True,  True,  True, False,  True,  True,  True,  True,  True,\n",
              "        True,  True,  True,  True,  True,  True,  True,  True,  True,\n",
              "        True, False,  True, False,  True,  True,  True,  True,  True,\n",
              "        True,  True,  True, False,  True,  True,  True,  True,  True,\n",
              "        True,  True,  True,  True,  True,  True])"
            ]
          },
          "execution_count": 64,
          "metadata": {},
          "output_type": "execute_result"
        }
      ],
      "source": [
        "ypred = nn.predict(xtest)\n",
        "y_test == ypred\n"
      ]
    },
    {
      "cell_type": "code",
      "execution_count": null,
      "metadata": {
        "id": "vuArfyZrsXyY",
        "outputId": "f270fda5-8f1c-4b84-ac29-53eb5d35fad2"
      },
      "outputs": [
        {
          "data": {
            "text/plain": [
              "<sklearn.metrics._plot.confusion_matrix.ConfusionMatrixDisplay at 0x1901c8c5e80>"
            ]
          },
          "execution_count": 65,
          "metadata": {},
          "output_type": "execute_result"
        },
        {
          "data": {
            "image/png": "[encoded data removed]",
            "text/plain": [
              "<Figure size 432x288 with 2 Axes>"
            ]
          },
          "metadata": {
            "needs_background": "light"
          },
          "output_type": "display_data"
        }
      ],
      "source": [
        "from sklearn.metrics import plot_confusion_matrix\n",
        "plot_confusion_matrix(nn, xtrain, ytrain)\n"
      ]
    },
    {
      "cell_type": "code",
      "execution_count": null,
      "metadata": {
        "id": "57b8w5NAsXyY",
        "outputId": "46dda74b-ff59-4ba0-978f-4bfce9972464"
      },
      "outputs": [
        {
          "data": {
            "text/plain": [
              "<sklearn.metrics._plot.confusion_matrix.ConfusionMatrixDisplay at 0x1901c52e850>"
            ]
          },
          "execution_count": 66,
          "metadata": {},
          "output_type": "execute_result"
        },
        {
          "data": {
            "image/png": "[encoded data removed]",
            "text/plain": [
              "<Figure size 432x288 with 2 Axes>"
            ]
          },
          "metadata": {
            "needs_background": "light"
          },
          "output_type": "display_data"
        }
      ],
      "source": [
        "from sklearn.metrics import plot_confusion_matrix\n",
        "plot_confusion_matrix(nn, xtest, y_test)"
      ]
    },
    {
      "cell_type": "code",
      "execution_count": null,
      "metadata": {
        "id": "s_pybtUFsXyY",
        "outputId": "95a6d377-e7f6-42ac-bd0c-c4ae237a8d6e"
      },
      "outputs": [
        {
          "data": {
            "text/plain": [
              "0.9019005847953216"
            ]
          },
          "execution_count": 67,
          "metadata": {},
          "output_type": "execute_result"
        }
      ],
      "source": [
        "from sklearn.metrics import f1_score, accuracy_score\n",
        "f1_score(y_test, ypred, average='weighted')"
      ]
    },
    {
      "cell_type": "code",
      "execution_count": null,
      "metadata": {
        "id": "Tqv5WwGzsXyY",
        "outputId": "53386631-e4f2-43c5-ef02-8e8a1b2466fc"
      },
      "outputs": [
        {
          "data": {
            "text/plain": [
              "0.9"
            ]
          },
          "execution_count": 68,
          "metadata": {},
          "output_type": "execute_result"
        }
      ],
      "source": [
        "accuracy_score(y_test, ypred)"
      ]
    },
    {
      "cell_type": "code",
      "execution_count": null,
      "metadata": {
        "id": "4itgfzQosXyZ",
        "outputId": "904e4312-42f2-4343-a5fd-b5b125375198"
      },
      "outputs": [
        {
          "data": {
            "text/plain": [
              "['NN2']"
            ]
          },
          "execution_count": 75,
          "metadata": {},
          "output_type": "execute_result"
        }
      ],
      "source": [
        "from joblib import dump\n",
        "dump(nn2, 'NN2')"
      ]
    },
    {
      "cell_type": "code",
      "execution_count": null,
      "metadata": {
        "id": "aNdSH_cAsXyZ",
        "outputId": "5541150f-17df-4b22-ec52-218af581b610"
      },
      "outputs": [
        {
          "name": "stdout",
          "output_type": "stream",
          "text": [
            "Iteration 1, loss = 1.07532729\n",
            "Iteration 2, loss = 6.51178680\n",
            "Iteration 3, loss = 10.16212148\n",
            "Iteration 4, loss = 8.15887264\n",
            "Iteration 5, loss = 1.87133373\n",
            "Iteration 6, loss = 2.59281439\n",
            "Iteration 7, loss = 1.67529441\n",
            "Iteration 8, loss = 1.41666574\n",
            "Iteration 9, loss = 0.65670013\n",
            "Iteration 10, loss = 0.68802676\n",
            "Iteration 11, loss = 0.20235812\n",
            "Iteration 12, loss = 0.45139551\n",
            "Iteration 13, loss = 0.16285887\n",
            "Iteration 14, loss = 0.19003219\n",
            "Iteration 15, loss = 0.13781468\n",
            "Iteration 16, loss = 0.10982692\n",
            "Iteration 17, loss = 0.06356522\n",
            "Iteration 18, loss = 0.08852724\n",
            "Iteration 19, loss = 0.05228533\n",
            "Iteration 20, loss = 0.02379386\n",
            "Iteration 21, loss = 0.03072119\n",
            "Iteration 22, loss = 0.03351915\n",
            "Iteration 23, loss = 0.02034571\n",
            "Iteration 24, loss = 0.01224265\n",
            "Iteration 25, loss = 0.01055753\n",
            "Iteration 26, loss = 0.01139537\n",
            "Iteration 27, loss = 0.01165095\n",
            "Iteration 28, loss = 0.01012304\n",
            "Iteration 29, loss = 0.00803878\n",
            "Iteration 30, loss = 0.00665882\n",
            "Iteration 31, loss = 0.00579179\n",
            "Iteration 32, loss = 0.00534553\n",
            "Iteration 33, loss = 0.00530025\n",
            "Iteration 34, loss = 0.00514893\n",
            "Iteration 35, loss = 0.00478829\n",
            "Iteration 36, loss = 0.00454739\n",
            "Iteration 37, loss = 0.00421545\n",
            "Iteration 38, loss = 0.00394917\n",
            "Iteration 39, loss = 0.00371512\n",
            "Iteration 40, loss = 0.00349590\n",
            "Iteration 41, loss = 0.00334799\n",
            "Iteration 42, loss = 0.00323019\n",
            "Iteration 43, loss = 0.00311169\n",
            "Iteration 44, loss = 0.00300820\n",
            "Iteration 45, loss = 0.00292066\n",
            "Iteration 46, loss = 0.00285335\n",
            "Iteration 47, loss = 0.00277515\n",
            "Iteration 48, loss = 0.00268203\n",
            "Iteration 49, loss = 0.00260961\n",
            "Iteration 50, loss = 0.00255525\n",
            "Iteration 51, loss = 0.00248714\n",
            "Iteration 52, loss = 0.00243638\n",
            "Iteration 53, loss = 0.00240631\n",
            "Iteration 54, loss = 0.00236709\n",
            "Iteration 55, loss = 0.00230886\n",
            "Training loss did not improve more than tol=0.000100 for 10 consecutive epochs. Stopping.\n"
          ]
        },
        {
          "data": {
            "text/plain": [
              "MLPClassifier(hidden_layer_sizes=(784, 228), verbose=2)"
            ]
          },
          "execution_count": 73,
          "metadata": {},
          "output_type": "execute_result"
        }
      ],
      "source": [
        "\n",
        "nn2 = MLPClassifier(hidden_layer_sizes=(784, 228),\n",
        "                   activation='relu', verbose=2)\n",
        "nn2.fit(X, y.ravel())"
      ]
    },
    {
      "cell_type": "code",
      "execution_count": null,
      "metadata": {
        "id": "fc7B_1cHsXyZ",
        "outputId": "d24d7ba1-e769-49ad-cb5e-642534c63390"
      },
      "outputs": [
        {
          "data": {
            "text/plain": [
              "array([ True,  True,  True,  True,  True,  True,  True,  True,  True,\n",
              "        True,  True,  True,  True,  True,  True,  True,  True,  True,\n",
              "        True,  True,  True,  True,  True,  True,  True,  True,  True,\n",
              "        True,  True,  True,  True,  True,  True,  True,  True,  True,\n",
              "        True,  True,  True,  True,  True,  True,  True,  True,  True,\n",
              "        True,  True,  True,  True,  True,  True,  True,  True,  True,\n",
              "        True,  True,  True,  True,  True,  True])"
            ]
          },
          "execution_count": 74,
          "metadata": {},
          "output_type": "execute_result"
        }
      ],
      "source": [
        "nn2.predict(xtest) == y_test"
      ]
    },
    {
      "cell_type": "code",
      "execution_count": null,
      "metadata": {
        "id": "YXEbOiojsXya",
        "outputId": "07fb4cea-e84c-4cf2-e4ec-57e53221e3f5"
      },
      "outputs": [
        {
          "data": {
            "text/plain": [
              "MLPClassifier(hidden_layer_sizes=(784, 228), verbose=2)"
            ]
          },
          "execution_count": 80,
          "metadata": {},
          "output_type": "execute_result"
        }
      ],
      "source": [
        "nn2"
      ]
    },
    {
      "cell_type": "code",
      "execution_count": null,
      "metadata": {
        "id": "yduDOaO9sXya"
      },
      "outputs": [],
      "source": [
        "from sklearn.svm import SVC\n",
        "\n",
        "svm = SVC().fit(xtrain, ytrain.ravel())"
      ]
    },
    {
      "cell_type": "code",
      "execution_count": null,
      "metadata": {
        "id": "D1egM9I0sXya"
      },
      "outputs": [],
      "source": [
        "ypred = svm.predict(xtest)\n"
      ]
    },
    {
      "cell_type": "code",
      "execution_count": null,
      "metadata": {
        "id": "t2WLKFd_sXya",
        "outputId": "110beccf-e898-4157-e577-3d50fbe6e1c2"
      },
      "outputs": [
        {
          "data": {
            "text/plain": [
              "1.0"
            ]
          },
          "execution_count": 92,
          "metadata": {},
          "output_type": "execute_result"
        }
      ],
      "source": [
        "from sklearn.metrics import f1_score, accuracy_score\n",
        "f1_score(y_test, ypred, average='weighted')"
      ]
    },
    {
      "cell_type": "code",
      "execution_count": null,
      "metadata": {
        "id": "w_-ZvKhPsXyb"
      },
      "outputs": [],
      "source": [
        "svm = SVC().fit(X, y.ravel())"
      ]
    },
    {
      "cell_type": "code",
      "execution_count": null,
      "metadata": {
        "id": "foPFLmFIsXyb",
        "outputId": "43489bec-3a9c-431a-beac-967fb7b8c822"
      },
      "outputs": [
        {
          "data": {
            "text/plain": [
              "['SVC']"
            ]
          },
          "execution_count": 93,
          "metadata": {},
          "output_type": "execute_result"
        }
      ],
      "source": [
        "dump(svm, 'SVC')"
      ]
    },
    {
      "cell_type": "code",
      "execution_count": null,
      "metadata": {
        "id": "3-4a1WovsXyb"
      },
      "outputs": [],
      "source": [
        "class Preprocessor():\n",
        "    def __init__(self, path: str):\n",
        "        self.from_path = path\n",
        "\n",
        "    def transform(self):\n",
        "        image = io.imread(self.from_path, as_gray=True)\n",
        "        scaled = rescale(image, 1/3)\n",
        "        resized_img = resize(scaled, (228, 228))\n",
        "        tr_image = hog(resized_img)\n",
        "        return tr_image\n"
      ]
    },
    {
      "cell_type": "code",
      "execution_count": null,
      "metadata": {
        "id": "zhUKO2jesXyb",
        "outputId": "f4366b06-1a84-44ca-8aa5-727b88541c9e"
      },
      "outputs": [
        {
          "data": {
            "text/plain": [
              "(54756,)"
            ]
          },
          "execution_count": 99,
          "metadata": {},
          "output_type": "execute_result"
        }
      ],
      "source": [
        "Preprocessor(r'.\\data\\Bacterial_leaf_blight\\DSC_0365.JPG').transform().shape"
      ]
    },
    {
      "cell_type": "code",
      "execution_count": null,
      "metadata": {
        "id": "u76wOmz7sXyb"
      },
      "outputs": [],
      "source": []
    }
  ],
  "metadata": {
    "interpreter": {
      "hash": "14a336a61cfaefff504b47e2b8e6e50961f0feafa7b211f8ff23081790c52144"
    },
    "kernelspec": {
      "display_name": "Python 3.9.7 64-bit",
      "language": "python",
      "name": "python3"
    },
    "language_info": {
      "codemirror_mode": {
        "name": "ipython",
        "version": 3
      },
      "file_extension": ".py",
      "mimetype": "text/x-python",
      "name": "python",
      "nbconvert_exporter": "python",
      "pygments_lexer": "ipython3",
      "version": "3.9.7"
    },
    "orig_nbformat": 4,
    "colab": {
      "provenance": [],
      "include_colab_link": true
    }
  },
  "nbformat": 4,
  "nbformat_minor": 0
}