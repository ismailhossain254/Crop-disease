{
  "nbformat": 4,
  "nbformat_minor": 0,
  "metadata": {
    "colab": {
      "provenance": [],
      "collapsed_sections": [],
      "include_colab_link": true
    },
    "kernelspec": {
      "name": "python3",
      "display_name": "Python 3"
    },
    "language_info": {
      "name": "python"
    },
    "accelerator": "GPU",
    "gpuClass": "standard"
  },
  "cells": [
    {
      "cell_type": "markdown",
      "metadata": {
        "id": "view-in-github",
        "colab_type": "text"
      },
      "source": [
        "<a href=\"https://colab.research.google.com/github/ismailhossain254/Plant-disease-detection-using-image-processing/blob/main/CropDisease_withCNN.ipynb\" target=\"_parent\"><img src=\"https://colab.research.google.com/assets/colab-badge.svg\" alt=\"Open In Colab\"/></a>"
      ]
    },
    {
      "cell_type": "markdown",
      "source": [
        "# Libs"
      ],
      "metadata": {
        "id": "sZubzvZR1ixk"
      }
    },
    {
      "cell_type": "code",
      "source": [
        "!pip install tensorflow==2.8\n",
        "!apt install --allow-change-held-packages libcudnn8=8.1.0.77-1+cuda11.2"
      ],
      "metadata": {
        "colab": {
          "base_uri": "https://localhost:8080/"
        },
        "id": "pPukXa77aahT",
        "outputId": "5202e12a-b609-4d7f-8bef-1a0be1c0acc2"
      },
      "execution_count": null,
      "outputs": [
        {
          "output_type": "stream",
          "name": "stdout",
          "text": [
            "Looking in indexes: https://pypi.org/simple, https://us-python.pkg.dev/colab-wheels/public/simple/\n",
            "Collecting tensorflow==2.8\n",
            "  Downloading https://us-python.pkg.dev/colab-wheels/public/tensorflow/tensorflow-2.8.0%2Bzzzcolab20220506162203-cp37-cp37m-linux_x86_64.whl\n",
            "\u001b[K     / 668.3 MB 328 kB/s\n",
            "\u001b[?25hRequirement already satisfied: opt-einsum>=2.3.2 in /usr/local/lib/python3.7/dist-packages (from tensorflow==2.8) (3.3.0)\n",
            "Requirement already satisfied: wrapt>=1.11.0 in /usr/local/lib/python3.7/dist-packages (from tensorflow==2.8) (1.14.1)\n",
            "Requirement already satisfied: keras<2.9,>=2.8.0rc0 in /usr/local/lib/python3.7/dist-packages (from tensorflow==2.8) (2.8.0)\n",
            "Requirement already satisfied: absl-py>=0.4.0 in /usr/local/lib/python3.7/dist-packages (from tensorflow==2.8) (1.1.0)\n",
            "Requirement already satisfied: six>=1.12.0 in /usr/local/lib/python3.7/dist-packages (from tensorflow==2.8) (1.15.0)\n",
            "Requirement already satisfied: grpcio<2.0,>=1.24.3 in /usr/local/lib/python3.7/dist-packages (from tensorflow==2.8) (1.46.3)\n",
            "Requirement already satisfied: tensorboard<2.9,>=2.8 in /usr/local/lib/python3.7/dist-packages (from tensorflow==2.8) (2.8.0)\n",
            "Requirement already satisfied: astunparse>=1.6.0 in /usr/local/lib/python3.7/dist-packages (from tensorflow==2.8) (1.6.3)\n",
            "Requirement already satisfied: typing-extensions>=3.6.6 in /usr/local/lib/python3.7/dist-packages (from tensorflow==2.8) (4.2.0)\n",
            "Requirement already satisfied: keras-preprocessing>=1.1.1 in /usr/local/lib/python3.7/dist-packages (from tensorflow==2.8) (1.1.2)\n",
            "Requirement already satisfied: gast>=0.2.1 in /usr/local/lib/python3.7/dist-packages (from tensorflow==2.8) (0.5.3)\n",
            "Requirement already satisfied: setuptools in /usr/local/lib/python3.7/dist-packages (from tensorflow==2.8) (57.4.0)\n",
            "Requirement already satisfied: flatbuffers>=1.12 in /usr/local/lib/python3.7/dist-packages (from tensorflow==2.8) (2.0)\n",
            "Requirement already satisfied: numpy>=1.20 in /usr/local/lib/python3.7/dist-packages (from tensorflow==2.8) (1.21.6)\n",
            "Collecting tf-estimator-nightly==2.8.0.dev2021122109\n",
            "  Downloading tf_estimator_nightly-2.8.0.dev2021122109-py2.py3-none-any.whl (462 kB)\n",
            "\u001b[K     |████████████████████████████████| 462 kB 15.6 MB/s \n",
            "\u001b[?25hRequirement already satisfied: google-pasta>=0.1.1 in /usr/local/lib/python3.7/dist-packages (from tensorflow==2.8) (0.2.0)\n",
            "Requirement already satisfied: libclang>=9.0.1 in /usr/local/lib/python3.7/dist-packages (from tensorflow==2.8) (14.0.1)\n",
            "Requirement already satisfied: h5py>=2.9.0 in /usr/local/lib/python3.7/dist-packages (from tensorflow==2.8) (3.1.0)\n",
            "Requirement already satisfied: termcolor>=1.1.0 in /usr/local/lib/python3.7/dist-packages (from tensorflow==2.8) (1.1.0)\n",
            "Requirement already satisfied: tensorflow-io-gcs-filesystem>=0.23.1 in /usr/local/lib/python3.7/dist-packages (from tensorflow==2.8) (0.26.0)\n",
            "Requirement already satisfied: protobuf>=3.9.2 in /usr/local/lib/python3.7/dist-packages (from tensorflow==2.8) (3.17.3)\n",
            "Requirement already satisfied: wheel<1.0,>=0.23.0 in /usr/local/lib/python3.7/dist-packages (from astunparse>=1.6.0->tensorflow==2.8) (0.37.1)\n",
            "Requirement already satisfied: cached-property in /usr/local/lib/python3.7/dist-packages (from h5py>=2.9.0->tensorflow==2.8) (1.5.2)\n",
            "Requirement already satisfied: werkzeug>=0.11.15 in /usr/local/lib/python3.7/dist-packages (from tensorboard<2.9,>=2.8->tensorflow==2.8) (1.0.1)\n",
            "Requirement already satisfied: google-auth<3,>=1.6.3 in /usr/local/lib/python3.7/dist-packages (from tensorboard<2.9,>=2.8->tensorflow==2.8) (1.35.0)\n",
            "Requirement already satisfied: tensorboard-data-server<0.7.0,>=0.6.0 in /usr/local/lib/python3.7/dist-packages (from tensorboard<2.9,>=2.8->tensorflow==2.8) (0.6.1)\n",
            "Requirement already satisfied: google-auth-oauthlib<0.5,>=0.4.1 in /usr/local/lib/python3.7/dist-packages (from tensorboard<2.9,>=2.8->tensorflow==2.8) (0.4.6)\n",
            "Requirement already satisfied: markdown>=2.6.8 in /usr/local/lib/python3.7/dist-packages (from tensorboard<2.9,>=2.8->tensorflow==2.8) (3.3.7)\n",
            "Requirement already satisfied: tensorboard-plugin-wit>=1.6.0 in /usr/local/lib/python3.7/dist-packages (from tensorboard<2.9,>=2.8->tensorflow==2.8) (1.8.1)\n",
            "Requirement already satisfied: requests<3,>=2.21.0 in /usr/local/lib/python3.7/dist-packages (from tensorboard<2.9,>=2.8->tensorflow==2.8) (2.23.0)\n",
            "Requirement already satisfied: pyasn1-modules>=0.2.1 in /usr/local/lib/python3.7/dist-packages (from google-auth<3,>=1.6.3->tensorboard<2.9,>=2.8->tensorflow==2.8) (0.2.8)\n",
            "Requirement already satisfied: rsa<5,>=3.1.4 in /usr/local/lib/python3.7/dist-packages (from google-auth<3,>=1.6.3->tensorboard<2.9,>=2.8->tensorflow==2.8) (4.8)\n",
            "Requirement already satisfied: cachetools<5.0,>=2.0.0 in /usr/local/lib/python3.7/dist-packages (from google-auth<3,>=1.6.3->tensorboard<2.9,>=2.8->tensorflow==2.8) (4.2.4)\n",
            "Requirement already satisfied: requests-oauthlib>=0.7.0 in /usr/local/lib/python3.7/dist-packages (from google-auth-oauthlib<0.5,>=0.4.1->tensorboard<2.9,>=2.8->tensorflow==2.8) (1.3.1)\n",
            "Requirement already satisfied: importlib-metadata>=4.4 in /usr/local/lib/python3.7/dist-packages (from markdown>=2.6.8->tensorboard<2.9,>=2.8->tensorflow==2.8) (4.11.4)\n",
            "Requirement already satisfied: zipp>=0.5 in /usr/local/lib/python3.7/dist-packages (from importlib-metadata>=4.4->markdown>=2.6.8->tensorboard<2.9,>=2.8->tensorflow==2.8) (3.8.0)\n",
            "Requirement already satisfied: pyasn1<0.5.0,>=0.4.6 in /usr/local/lib/python3.7/dist-packages (from pyasn1-modules>=0.2.1->google-auth<3,>=1.6.3->tensorboard<2.9,>=2.8->tensorflow==2.8) (0.4.8)\n",
            "Requirement already satisfied: urllib3!=1.25.0,!=1.25.1,<1.26,>=1.21.1 in /usr/local/lib/python3.7/dist-packages (from requests<3,>=2.21.0->tensorboard<2.9,>=2.8->tensorflow==2.8) (1.24.3)\n",
            "Requirement already satisfied: chardet<4,>=3.0.2 in /usr/local/lib/python3.7/dist-packages (from requests<3,>=2.21.0->tensorboard<2.9,>=2.8->tensorflow==2.8) (3.0.4)\n",
            "Requirement already satisfied: idna<3,>=2.5 in /usr/local/lib/python3.7/dist-packages (from requests<3,>=2.21.0->tensorboard<2.9,>=2.8->tensorflow==2.8) (2.10)\n",
            "Requirement already satisfied: certifi>=2017.4.17 in /usr/local/lib/python3.7/dist-packages (from requests<3,>=2.21.0->tensorboard<2.9,>=2.8->tensorflow==2.8) (2022.5.18.1)\n",
            "Requirement already satisfied: oauthlib>=3.0.0 in /usr/local/lib/python3.7/dist-packages (from requests-oauthlib>=0.7.0->google-auth-oauthlib<0.5,>=0.4.1->tensorboard<2.9,>=2.8->tensorflow==2.8) (3.2.0)\n",
            "Installing collected packages: tf-estimator-nightly, tensorflow\n",
            "  Attempting uninstall: tensorflow\n",
            "    Found existing installation: tensorflow 2.8.2+zzzcolab20220527125636\n",
            "    Uninstalling tensorflow-2.8.2+zzzcolab20220527125636:\n",
            "      Successfully uninstalled tensorflow-2.8.2+zzzcolab20220527125636\n",
            "Successfully installed tensorflow-2.8.0+zzzcolab20220506162203 tf-estimator-nightly-2.8.0.dev2021122109\n",
            "Reading package lists... Done\n",
            "Building dependency tree       \n",
            "Reading state information... Done\n",
            "The following package was automatically installed and is no longer required:\n",
            "  libnvidia-common-460\n",
            "Use 'apt autoremove' to remove it.\n",
            "The following packages will be REMOVED:\n",
            "  libcudnn8-dev\n",
            "The following held packages will be changed:\n",
            "  libcudnn8\n",
            "The following packages will be upgraded:\n",
            "  libcudnn8\n",
            "1 upgraded, 0 newly installed, 1 to remove and 47 not upgraded.\n",
            "Need to get 430 MB of archives.\n",
            "After this operation, 3,139 MB disk space will be freed.\n",
            "Get:1 https://developer.download.nvidia.com/compute/cuda/repos/ubuntu1804/x86_64  libcudnn8 8.1.0.77-1+cuda11.2 [430 MB]\n",
            "Fetched 430 MB in 7s (64.4 MB/s)\n",
            "(Reading database ... 155639 files and directories currently installed.)\n",
            "Removing libcudnn8-dev (8.0.5.39-1+cuda11.1) ...\n",
            "(Reading database ... 155617 files and directories currently installed.)\n",
            "Preparing to unpack .../libcudnn8_8.1.0.77-1+cuda11.2_amd64.deb ...\n",
            "Unpacking libcudnn8 (8.1.0.77-1+cuda11.2) over (8.0.5.39-1+cuda11.1) ...\n",
            "Setting up libcudnn8 (8.1.0.77-1+cuda11.2) ...\n"
          ]
        }
      ]
    },
    {
      "cell_type": "code",
      "execution_count": null,
      "metadata": {
        "id": "CsdoPY5t1V6m"
      },
      "outputs": [],
      "source": [
        "import pandas as pd\n",
        "import numpy as np\n",
        "import matplotlib.pyplot as plt\n",
        "import tensorflow as tf"
      ]
    },
    {
      "cell_type": "code",
      "source": [
        "from google.colab import drive\n",
        "drive.mount('/content/drive')"
      ],
      "metadata": {
        "colab": {
          "base_uri": "https://localhost:8080/"
        },
        "id": "5sWb81W_Pld9",
        "outputId": "c6ae3930-5d99-4817-89d8-5d51c65742a5"
      },
      "execution_count": null,
      "outputs": [
        {
          "output_type": "stream",
          "name": "stdout",
          "text": [
            "Drive already mounted at /content/drive; to attempt to forcibly remount, call drive.mount(\"/content/drive\", force_remount=True).\n"
          ]
        }
      ]
    },
    {
      "cell_type": "markdown",
      "source": [
        "# Load Images"
      ],
      "metadata": {
        "id": "G6QS9BW_15x4"
      }
    },
    {
      "cell_type": "code",
      "source": [
        "train_data_gen = tf.keras.preprocessing.image.ImageDataGenerator(\n",
        "    rescale=1/255.0\n",
        ")\n",
        "train_images = train_data_gen.flow_from_directory(\n",
        "    'drive/My Drive/AugmentedData',\n",
        "    batch_size=32, \n",
        "    target_size=(228, 228)\n",
        ")"
      ],
      "metadata": {
        "colab": {
          "base_uri": "https://localhost:8080/"
        },
        "id": "FRx89lH71sPe",
        "outputId": "7a233018-d462-44a2-e2ea-1e4df52608fb"
      },
      "execution_count": null,
      "outputs": [
        {
          "output_type": "stream",
          "name": "stdout",
          "text": [
            "Found 1082 images belonging to 3 classes.\n"
          ]
        }
      ]
    },
    {
      "cell_type": "code",
      "source": [
        "valid_data_gen = tf.keras.preprocessing.image.ImageDataGenerator(\n",
        "    rescale=1/255.0\n",
        ")\n",
        "valid_images = valid_data_gen.flow_from_directory(\n",
        "    'drive/My Drive/data',\n",
        "    batch_size=24,\n",
        "    target_size=(228, 228)\n",
        ")"
      ],
      "metadata": {
        "colab": {
          "base_uri": "https://localhost:8080/"
        },
        "id": "b0f0c7tL5G2c",
        "outputId": "df582dee-dd81-4def-c141-3c9bd4d8f85a"
      },
      "execution_count": null,
      "outputs": [
        {
          "output_type": "stream",
          "name": "stdout",
          "text": [
            "Found 120 images belonging to 3 classes.\n"
          ]
        }
      ]
    },
    {
      "cell_type": "code",
      "source": [
        "next(valid_images)[1]"
      ],
      "metadata": {
        "colab": {
          "base_uri": "https://localhost:8080/"
        },
        "id": "sOwoiMzxUr70",
        "outputId": "629b16a0-4b1a-4161-fbe5-5597b6a371de"
      },
      "execution_count": null,
      "outputs": [
        {
          "output_type": "execute_result",
          "data": {
            "text/plain": [
              "array([[1., 0., 0.],\n",
              "       [1., 0., 0.],\n",
              "       [1., 0., 0.],\n",
              "       [0., 1., 0.],\n",
              "       [0., 0., 1.],\n",
              "       [0., 1., 0.],\n",
              "       [0., 1., 0.],\n",
              "       [1., 0., 0.],\n",
              "       [0., 0., 1.],\n",
              "       [0., 1., 0.],\n",
              "       [0., 0., 1.],\n",
              "       [1., 0., 0.],\n",
              "       [1., 0., 0.],\n",
              "       [1., 0., 0.],\n",
              "       [0., 1., 0.],\n",
              "       [0., 0., 1.],\n",
              "       [0., 1., 0.],\n",
              "       [1., 0., 0.],\n",
              "       [0., 0., 1.],\n",
              "       [1., 0., 0.],\n",
              "       [0., 1., 0.],\n",
              "       [0., 0., 1.],\n",
              "       [0., 1., 0.],\n",
              "       [0., 1., 0.]], dtype=float32)"
            ]
          },
          "metadata": {},
          "execution_count": 24
        }
      ]
    },
    {
      "cell_type": "code",
      "source": [
        "\n",
        "def plotLoss(history: pd.DataFrame):\n",
        "    plt.figure(figsize=(18, 10))\n",
        "    plt.plot(history.index.values,\n",
        "             history['loss'], label='Training Error', color='darkorange', linewidth=3)\n",
        "    plt.plot(history.index.values, history['val_loss'],\n",
        "             label='Validation Error', color='lightgreen', linewidth=3)\n",
        "    plt.legend()\n",
        "    plt.grid(True)\n",
        "    plt.show()\n",
        "\n",
        "\n",
        "def plotAccuracy(history: pd.DataFrame):\n",
        "    plt.figure(figsize=(18, 10))\n",
        "    plt.plot(history.index.values, history['accuracy'],\n",
        "             label='Training Accuracy', color='darkorange', linewidth=3)\n",
        "    plt.plot(history.index.values, history['val_accuracy'],\n",
        "             label='Validation Accuracy', color='lightgreen', linewidth=3)\n",
        "    plt.legend()\n",
        "    plt.grid(True)\n",
        "    plt.show()"
      ],
      "metadata": {
        "id": "8PlufObogn4m"
      },
      "execution_count": null,
      "outputs": []
    },
    {
      "cell_type": "markdown",
      "source": [
        "# Convolution Neural Network"
      ],
      "metadata": {
        "id": "lfFokWMl7Ic0"
      }
    },
    {
      "cell_type": "code",
      "source": [
        "cnn = tf.keras.Sequential([\n",
        "        # Convolution Feature Extraction\n",
        "        tf.keras.layers.Conv2D(\n",
        "           filters=32, kernel_size=(3,3),\n",
        "           strides=(1,1), activation='relu',\n",
        "           input_shape=(228, 228, 3), padding='same'\n",
        "        ), \n",
        "        # Dimesionality Reduction\n",
        "        tf.keras.layers.MaxPool2D(\n",
        "           pool_size=(2,2), strides=(1,1), padding='same'\n",
        "        ),\n",
        "\n",
        "        \n",
        "\n",
        "        # Batch Normalization\n",
        "        tf.keras.layers.BatchNormalization(),\n",
        "        tf.keras.layers.Flatten(),\n",
        "\n",
        "        # fulluy Connected Network\n",
        "        tf.keras.layers.Dense(units=128, activation='relu'),\n",
        "        tf.keras.layers.Dropout(rate=0.25, seed=42),\n",
        "        tf.keras.layers.Dense(units=3, activation='softmax')\n",
        "])"
      ],
      "metadata": {
        "id": "nneDFfUG7H9M"
      },
      "execution_count": null,
      "outputs": []
    },
    {
      "cell_type": "code",
      "source": [
        "cnn.compile(\n",
        "    optimizer='adam',\n",
        "    loss='categorical_crossentropy',\n",
        "    metrics=['accuracy']\n",
        ")"
      ],
      "metadata": {
        "id": "T_SvzkB_-Zod"
      },
      "execution_count": null,
      "outputs": []
    },
    {
      "cell_type": "code",
      "source": [
        "tf.config.experimental.list_physical_devices()"
      ],
      "metadata": {
        "colab": {
          "base_uri": "https://localhost:8080/"
        },
        "id": "Q8g0QyBRbYLO",
        "outputId": "83a79905-54d6-4f58-f5d1-66450fea4849"
      },
      "execution_count": null,
      "outputs": [
        {
          "output_type": "execute_result",
          "data": {
            "text/plain": [
              "[PhysicalDevice(name='/physical_device:CPU:0', device_type='CPU'),\n",
              " PhysicalDevice(name='/physical_device:GPU:0', device_type='GPU')]"
            ]
          },
          "metadata": {},
          "execution_count": 9
        }
      ]
    },
    {
      "cell_type": "code",
      "source": [
        "with tf.device('/device:GPU:0'):\n",
        "    cnn.fit(\n",
        "        train_images, \n",
        "        epochs=25,\n",
        "        validation_data=valid_images\n",
        "    )"
      ],
      "metadata": {
        "colab": {
          "base_uri": "https://localhost:8080/"
        },
        "id": "iRum-Zvq-met",
        "outputId": "805e1f95-44f8-4a50-87b7-17e3f9ae1732"
      },
      "execution_count": null,
      "outputs": [
        {
          "output_type": "stream",
          "name": "stdout",
          "text": [
            "Epoch 1/25\n",
            "34/34 [==============================] - 8s 224ms/step - loss: 76.7881 - accuracy: 0.5823 - val_loss: 33.1354 - val_accuracy: 0.3417\n",
            "Epoch 2/25\n",
            "34/34 [==============================] - 7s 209ms/step - loss: 2.5370 - accuracy: 0.5739 - val_loss: 7.2338 - val_accuracy: 0.3917\n",
            "Epoch 3/25\n",
            "34/34 [==============================] - 7s 200ms/step - loss: 1.1496 - accuracy: 0.5721 - val_loss: 2.7458 - val_accuracy: 0.4250\n",
            "Epoch 4/25\n",
            "34/34 [==============================] - 7s 201ms/step - loss: 1.6370 - accuracy: 0.6331 - val_loss: 1.6858 - val_accuracy: 0.4417\n",
            "Epoch 5/25\n",
            "34/34 [==============================] - 7s 201ms/step - loss: 1.3321 - accuracy: 0.6756 - val_loss: 0.8384 - val_accuracy: 0.5917\n",
            "Epoch 6/25\n",
            "34/34 [==============================] - 7s 201ms/step - loss: 0.7389 - accuracy: 0.6793 - val_loss: 1.3139 - val_accuracy: 0.6833\n",
            "Epoch 7/25\n",
            "34/34 [==============================] - 7s 200ms/step - loss: 0.8964 - accuracy: 0.6553 - val_loss: 0.8634 - val_accuracy: 0.5250\n",
            "Epoch 8/25\n",
            "34/34 [==============================] - 7s 199ms/step - loss: 0.6461 - accuracy: 0.6756 - val_loss: 0.5884 - val_accuracy: 0.7500\n",
            "Epoch 9/25\n",
            "34/34 [==============================] - 7s 202ms/step - loss: 0.6432 - accuracy: 0.6701 - val_loss: 0.7329 - val_accuracy: 0.6167\n",
            "Epoch 10/25\n",
            "34/34 [==============================] - 7s 202ms/step - loss: 0.6101 - accuracy: 0.7006 - val_loss: 0.6888 - val_accuracy: 0.6833\n",
            "Epoch 11/25\n",
            "34/34 [==============================] - 7s 199ms/step - loss: 0.6119 - accuracy: 0.6858 - val_loss: 0.8030 - val_accuracy: 0.5000\n",
            "Epoch 12/25\n",
            "34/34 [==============================] - 7s 200ms/step - loss: 0.5781 - accuracy: 0.7070 - val_loss: 0.4062 - val_accuracy: 0.8833\n",
            "Epoch 13/25\n",
            "34/34 [==============================] - 15s 458ms/step - loss: 0.5253 - accuracy: 0.7699 - val_loss: 0.4431 - val_accuracy: 0.8333\n",
            "Epoch 14/25\n",
            "34/34 [==============================] - 7s 203ms/step - loss: 0.5960 - accuracy: 0.7200 - val_loss: 0.4010 - val_accuracy: 0.8250\n",
            "Epoch 15/25\n",
            "34/34 [==============================] - 8s 240ms/step - loss: 0.5933 - accuracy: 0.7033 - val_loss: 0.3927 - val_accuracy: 0.8583\n",
            "Epoch 16/25\n",
            "34/34 [==============================] - 7s 201ms/step - loss: 0.5523 - accuracy: 0.7495 - val_loss: 0.3680 - val_accuracy: 0.8583\n",
            "Epoch 17/25\n",
            "34/34 [==============================] - 7s 198ms/step - loss: 0.5184 - accuracy: 0.7532 - val_loss: 0.3067 - val_accuracy: 0.9250\n",
            "Epoch 18/25\n",
            "34/34 [==============================] - 7s 197ms/step - loss: 0.4953 - accuracy: 0.7902 - val_loss: 0.3806 - val_accuracy: 0.8833\n",
            "Epoch 19/25\n",
            "34/34 [==============================] - 7s 201ms/step - loss: 0.4825 - accuracy: 0.8087 - val_loss: 0.4410 - val_accuracy: 0.8667\n",
            "Epoch 20/25\n",
            "34/34 [==============================] - 9s 273ms/step - loss: 0.5139 - accuracy: 0.7542 - val_loss: 2.2381 - val_accuracy: 0.7417\n",
            "Epoch 21/25\n",
            "34/34 [==============================] - 7s 199ms/step - loss: 0.5095 - accuracy: 0.7616 - val_loss: 5.6025 - val_accuracy: 0.6250\n",
            "Epoch 22/25\n",
            "34/34 [==============================] - 7s 201ms/step - loss: 0.4814 - accuracy: 0.7810 - val_loss: 0.2454 - val_accuracy: 0.9417\n",
            "Epoch 23/25\n",
            "34/34 [==============================] - 7s 201ms/step - loss: 0.4497 - accuracy: 0.8031 - val_loss: 0.2481 - val_accuracy: 0.9417\n",
            "Epoch 24/25\n",
            "34/34 [==============================] - 7s 203ms/step - loss: 0.4709 - accuracy: 0.7911 - val_loss: 0.2639 - val_accuracy: 0.9333\n",
            "Epoch 25/25\n",
            "34/34 [==============================] - 8s 235ms/step - loss: 0.4291 - accuracy: 0.8041 - val_loss: 0.2481 - val_accuracy: 0.9333\n"
          ]
        }
      ]
    },
    {
      "cell_type": "code",
      "source": [
        "cnn.summary()"
      ],
      "metadata": {
        "colab": {
          "base_uri": "https://localhost:8080/"
        },
        "id": "aTZq1EBNhLDt",
        "outputId": "d0c8c414-8ef8-4383-cbb5-77b52f27fc31"
      },
      "execution_count": null,
      "outputs": [
        {
          "output_type": "stream",
          "name": "stdout",
          "text": [
            "Model: \"sequential_2\"\n",
            "_________________________________________________________________\n",
            " Layer (type)                Output Shape              Param #   \n",
            "=================================================================\n",
            " conv2d_2 (Conv2D)           (None, 228, 228, 32)      896       \n",
            "                                                                 \n",
            " max_pooling2d_2 (MaxPooling  (None, 228, 228, 32)     0         \n",
            " 2D)                                                             \n",
            "                                                                 \n",
            " batch_normalization_1 (Batc  (None, 228, 228, 32)     128       \n",
            " hNormalization)                                                 \n",
            "                                                                 \n",
            " flatten_2 (Flatten)         (None, 1663488)           0         \n",
            "                                                                 \n",
            " dense_4 (Dense)             (None, 128)               212926592 \n",
            "                                                                 \n",
            " dropout_2 (Dropout)         (None, 128)               0         \n",
            "                                                                 \n",
            " dense_5 (Dense)             (None, 3)                 387       \n",
            "                                                                 \n",
            "=================================================================\n",
            "Total params: 212,928,003\n",
            "Trainable params: 212,927,939\n",
            "Non-trainable params: 64\n",
            "_________________________________________________________________\n"
          ]
        }
      ]
    },
    {
      "cell_type": "code",
      "source": [
        "hist = pd.DataFrame(cnn.history.history)\n",
        "hist"
      ],
      "metadata": {
        "id": "ALxFJs2L-wPu",
        "colab": {
          "base_uri": "https://localhost:8080/",
          "height": 833
        },
        "outputId": "7537f6af-c7be-41b8-f32b-dc5626f47134"
      },
      "execution_count": null,
      "outputs": [
        {
          "output_type": "execute_result",
          "data": {
            "text/plain": [
              "         loss  accuracy   val_loss  val_accuracy\n",
              "0   76.788086  0.582255  33.135376      0.341667\n",
              "1    2.537040  0.573937   7.233796      0.391667\n",
              "2    1.149596  0.572089   2.745827      0.425000\n",
              "3    1.636991  0.633087   1.685813      0.441667\n",
              "4    1.332133  0.675601   0.838440      0.591667\n",
              "5    0.738946  0.679298   1.313927      0.683333\n",
              "6    0.896409  0.655268   0.863438      0.525000\n",
              "7    0.646087  0.675601   0.588385      0.750000\n",
              "8    0.643178  0.670055   0.732854      0.616667\n",
              "9    0.610141  0.700555   0.688799      0.683333\n",
              "10   0.611888  0.685767   0.802952      0.500000\n",
              "11   0.578115  0.707024   0.406248      0.883333\n",
              "12   0.525272  0.769871   0.443138      0.833333\n",
              "13   0.595979  0.719963   0.401044      0.825000\n",
              "14   0.593338  0.703327   0.392671      0.858333\n",
              "15   0.552299  0.749538   0.368047      0.858333\n",
              "16   0.518439  0.753235   0.306680      0.925000\n",
              "17   0.495341  0.790203   0.380631      0.883333\n",
              "18   0.482473  0.808688   0.440980      0.866667\n",
              "19   0.513921  0.754159   2.238124      0.741667\n",
              "20   0.509474  0.761553   5.602520      0.625000\n",
              "21   0.481377  0.780961   0.245447      0.941667\n",
              "22   0.449704  0.803142   0.248073      0.941667\n",
              "23   0.470896  0.791128   0.263907      0.933333\n",
              "24   0.429115  0.804067   0.248053      0.933333"
            ],
            "text/html": [
              "\n",
              "  <div id=\"df-587aa3a4-0a94-489a-9dc9-e18b245a5d4c\">\n",
              "    <div class=\"colab-df-container\">\n",
              "      <div>\n",
              "<style scoped>\n",
              "    .dataframe tbody tr th:only-of-type {\n",
              "        vertical-align: middle;\n",
              "    }\n",
              "\n",
              "    .dataframe tbody tr th {\n",
              "        vertical-align: top;\n",
              "    }\n",
              "\n",
              "    .dataframe thead th {\n",
              "        text-align: right;\n",
              "    }\n",
              "</style>\n",
              "<table border=\"1\" class=\"dataframe\">\n",
              "  <thead>\n",
              "    <tr style=\"text-align: right;\">\n",
              "      <th></th>\n",
              "      <th>loss</th>\n",
              "      <th>accuracy</th>\n",
              "      <th>val_loss</th>\n",
              "      <th>val_accuracy</th>\n",
              "    </tr>\n",
              "  </thead>\n",
              "  <tbody>\n",
              "    <tr>\n",
              "      <th>0</th>\n",
              "      <td>76.788086</td>\n",
              "      <td>0.582255</td>\n",
              "      <td>33.135376</td>\n",
              "      <td>0.341667</td>\n",
              "    </tr>\n",
              "    <tr>\n",
              "      <th>1</th>\n",
              "      <td>2.537040</td>\n",
              "      <td>0.573937</td>\n",
              "      <td>7.233796</td>\n",
              "      <td>0.391667</td>\n",
              "    </tr>\n",
              "    <tr>\n",
              "      <th>2</th>\n",
              "      <td>1.149596</td>\n",
              "      <td>0.572089</td>\n",
              "      <td>2.745827</td>\n",
              "      <td>0.425000</td>\n",
              "    </tr>\n",
              "    <tr>\n",
              "      <th>3</th>\n",
              "      <td>1.636991</td>\n",
              "      <td>0.633087</td>\n",
              "      <td>1.685813</td>\n",
              "      <td>0.441667</td>\n",
              "    </tr>\n",
              "    <tr>\n",
              "      <th>4</th>\n",
              "      <td>1.332133</td>\n",
              "      <td>0.675601</td>\n",
              "      <td>0.838440</td>\n",
              "      <td>0.591667</td>\n",
              "    </tr>\n",
              "    <tr>\n",
              "      <th>5</th>\n",
              "      <td>0.738946</td>\n",
              "      <td>0.679298</td>\n",
              "      <td>1.313927</td>\n",
              "      <td>0.683333</td>\n",
              "    </tr>\n",
              "    <tr>\n",
              "      <th>6</th>\n",
              "      <td>0.896409</td>\n",
              "      <td>0.655268</td>\n",
              "      <td>0.863438</td>\n",
              "      <td>0.525000</td>\n",
              "    </tr>\n",
              "    <tr>\n",
              "      <th>7</th>\n",
              "      <td>0.646087</td>\n",
              "      <td>0.675601</td>\n",
              "      <td>0.588385</td>\n",
              "      <td>0.750000</td>\n",
              "    </tr>\n",
              "    <tr>\n",
              "      <th>8</th>\n",
              "      <td>0.643178</td>\n",
              "      <td>0.670055</td>\n",
              "      <td>0.732854</td>\n",
              "      <td>0.616667</td>\n",
              "    </tr>\n",
              "    <tr>\n",
              "      <th>9</th>\n",
              "      <td>0.610141</td>\n",
              "      <td>0.700555</td>\n",
              "      <td>0.688799</td>\n",
              "      <td>0.683333</td>\n",
              "    </tr>\n",
              "    <tr>\n",
              "      <th>10</th>\n",
              "      <td>0.611888</td>\n",
              "      <td>0.685767</td>\n",
              "      <td>0.802952</td>\n",
              "      <td>0.500000</td>\n",
              "    </tr>\n",
              "    <tr>\n",
              "      <th>11</th>\n",
              "      <td>0.578115</td>\n",
              "      <td>0.707024</td>\n",
              "      <td>0.406248</td>\n",
              "      <td>0.883333</td>\n",
              "    </tr>\n",
              "    <tr>\n",
              "      <th>12</th>\n",
              "      <td>0.525272</td>\n",
              "      <td>0.769871</td>\n",
              "      <td>0.443138</td>\n",
              "      <td>0.833333</td>\n",
              "    </tr>\n",
              "    <tr>\n",
              "      <th>13</th>\n",
              "      <td>0.595979</td>\n",
              "      <td>0.719963</td>\n",
              "      <td>0.401044</td>\n",
              "      <td>0.825000</td>\n",
              "    </tr>\n",
              "    <tr>\n",
              "      <th>14</th>\n",
              "      <td>0.593338</td>\n",
              "      <td>0.703327</td>\n",
              "      <td>0.392671</td>\n",
              "      <td>0.858333</td>\n",
              "    </tr>\n",
              "    <tr>\n",
              "      <th>15</th>\n",
              "      <td>0.552299</td>\n",
              "      <td>0.749538</td>\n",
              "      <td>0.368047</td>\n",
              "      <td>0.858333</td>\n",
              "    </tr>\n",
              "    <tr>\n",
              "      <th>16</th>\n",
              "      <td>0.518439</td>\n",
              "      <td>0.753235</td>\n",
              "      <td>0.306680</td>\n",
              "      <td>0.925000</td>\n",
              "    </tr>\n",
              "    <tr>\n",
              "      <th>17</th>\n",
              "      <td>0.495341</td>\n",
              "      <td>0.790203</td>\n",
              "      <td>0.380631</td>\n",
              "      <td>0.883333</td>\n",
              "    </tr>\n",
              "    <tr>\n",
              "      <th>18</th>\n",
              "      <td>0.482473</td>\n",
              "      <td>0.808688</td>\n",
              "      <td>0.440980</td>\n",
              "      <td>0.866667</td>\n",
              "    </tr>\n",
              "    <tr>\n",
              "      <th>19</th>\n",
              "      <td>0.513921</td>\n",
              "      <td>0.754159</td>\n",
              "      <td>2.238124</td>\n",
              "      <td>0.741667</td>\n",
              "    </tr>\n",
              "    <tr>\n",
              "      <th>20</th>\n",
              "      <td>0.509474</td>\n",
              "      <td>0.761553</td>\n",
              "      <td>5.602520</td>\n",
              "      <td>0.625000</td>\n",
              "    </tr>\n",
              "    <tr>\n",
              "      <th>21</th>\n",
              "      <td>0.481377</td>\n",
              "      <td>0.780961</td>\n",
              "      <td>0.245447</td>\n",
              "      <td>0.941667</td>\n",
              "    </tr>\n",
              "    <tr>\n",
              "      <th>22</th>\n",
              "      <td>0.449704</td>\n",
              "      <td>0.803142</td>\n",
              "      <td>0.248073</td>\n",
              "      <td>0.941667</td>\n",
              "    </tr>\n",
              "    <tr>\n",
              "      <th>23</th>\n",
              "      <td>0.470896</td>\n",
              "      <td>0.791128</td>\n",
              "      <td>0.263907</td>\n",
              "      <td>0.933333</td>\n",
              "    </tr>\n",
              "    <tr>\n",
              "      <th>24</th>\n",
              "      <td>0.429115</td>\n",
              "      <td>0.804067</td>\n",
              "      <td>0.248053</td>\n",
              "      <td>0.933333</td>\n",
              "    </tr>\n",
              "  </tbody>\n",
              "</table>\n",
              "</div>\n",
              "      <button class=\"colab-df-convert\" onclick=\"convertToInteractive('df-587aa3a4-0a94-489a-9dc9-e18b245a5d4c')\"\n",
              "              title=\"Convert this dataframe to an interactive table.\"\n",
              "              style=\"display:none;\">\n",
              "        \n",
              "  <svg xmlns=\"http://www.w3.org/2000/svg\" height=\"24px\"viewBox=\"0 0 24 24\"\n",
              "       width=\"24px\">\n",
              "    <path d=\"M0 0h24v24H0V0z\" fill=\"none\"/>\n",
              "    <path d=\"M18.56 5.44l.94 2.06.94-2.06 2.06-.94-2.06-.94-.94-2.06-.94 2.06-2.06.94zm-11 1L8.5 8.5l.94-2.06 2.06-.94-2.06-.94L8.5 2.5l-.94 2.06-2.06.94zm10 10l.94 2.06.94-2.06 2.06-.94-2.06-.94-.94-2.06-.94 2.06-2.06.94z\"/><path d=\"M17.41 7.96l-1.37-1.37c-.4-.4-.92-.59-1.43-.59-.52 0-1.04.2-1.43.59L10.3 9.45l-7.72 7.72c-.78.78-.78 2.05 0 2.83L4 21.41c.39.39.9.59 1.41.59.51 0 1.02-.2 1.41-.59l7.78-7.78 2.81-2.81c.8-.78.8-2.07 0-2.86zM5.41 20L4 18.59l7.72-7.72 1.47 1.35L5.41 20z\"/>\n",
              "  </svg>\n",
              "      </button>\n",
              "      \n",
              "  <style>\n",
              "    .colab-df-container {\n",
              "      display:flex;\n",
              "      flex-wrap:wrap;\n",
              "      gap: 12px;\n",
              "    }\n",
              "\n",
              "    .colab-df-convert {\n",
              "      background-color: #E8F0FE;\n",
              "      border: none;\n",
              "      border-radius: 50%;\n",
              "      cursor: pointer;\n",
              "      display: none;\n",
              "      fill: #1967D2;\n",
              "      height: 32px;\n",
              "      padding: 0 0 0 0;\n",
              "      width: 32px;\n",
              "    }\n",
              "\n",
              "    .colab-df-convert:hover {\n",
              "      background-color: #E2EBFA;\n",
              "      box-shadow: 0px 1px 2px rgba(60, 64, 67, 0.3), 0px 1px 3px 1px rgba(60, 64, 67, 0.15);\n",
              "      fill: #174EA6;\n",
              "    }\n",
              "\n",
              "    [theme=dark] .colab-df-convert {\n",
              "      background-color: #3B4455;\n",
              "      fill: #D2E3FC;\n",
              "    }\n",
              "\n",
              "    [theme=dark] .colab-df-convert:hover {\n",
              "      background-color: #434B5C;\n",
              "      box-shadow: 0px 1px 3px 1px rgba(0, 0, 0, 0.15);\n",
              "      filter: drop-shadow(0px 1px 2px rgba(0, 0, 0, 0.3));\n",
              "      fill: #FFFFFF;\n",
              "    }\n",
              "  </style>\n",
              "\n",
              "      <script>\n",
              "        const buttonEl =\n",
              "          document.querySelector('#df-587aa3a4-0a94-489a-9dc9-e18b245a5d4c button.colab-df-convert');\n",
              "        buttonEl.style.display =\n",
              "          google.colab.kernel.accessAllowed ? 'block' : 'none';\n",
              "\n",
              "        async function convertToInteractive(key) {\n",
              "          const element = document.querySelector('#df-587aa3a4-0a94-489a-9dc9-e18b245a5d4c');\n",
              "          const dataTable =\n",
              "            await google.colab.kernel.invokeFunction('convertToInteractive',\n",
              "                                                     [key], {});\n",
              "          if (!dataTable) return;\n",
              "\n",
              "          const docLinkHtml = 'Like what you see? Visit the ' +\n",
              "            '<a target=\"_blank\" href=https://colab.research.google.com/notebooks/data_table.ipynb>data table notebook</a>'\n",
              "            + ' to learn more about interactive tables.';\n",
              "          element.innerHTML = '';\n",
              "          dataTable['output_type'] = 'display_data';\n",
              "          await google.colab.output.renderOutput(dataTable, element);\n",
              "          const docLink = document.createElement('div');\n",
              "          docLink.innerHTML = docLinkHtml;\n",
              "          element.appendChild(docLink);\n",
              "        }\n",
              "      </script>\n",
              "    </div>\n",
              "  </div>\n",
              "  "
            ]
          },
          "metadata": {},
          "execution_count": 24
        }
      ]
    },
    {
      "cell_type": "code",
      "source": [
        "plotLoss(hist)"
      ],
      "metadata": {
        "colab": {
          "base_uri": "https://localhost:8080/",
          "height": 592
        },
        "id": "kzh6yN0lhKRe",
        "outputId": "bd4b896b-74f5-471f-cbda-118d7ea241b0"
      },
      "execution_count": null,
      "outputs": [
        {
          "output_type": "display_data",
          "data": {
            "text/plain": [
              "<Figure size 1296x720 with 1 Axes>"
            ],
            "image/png": "[encoded data removed]"
          },
          "metadata": {
            "needs_background": "light"
          }
        }
      ]
    },
    {
      "cell_type": "code",
      "source": [
        "plotAccuracy(hist)"
      ],
      "metadata": {
        "colab": {
          "base_uri": "https://localhost:8080/",
          "height": 592
        },
        "id": "PLmpIDvphnAr",
        "outputId": "787b93a8-e1bf-4f3f-c4a0-6251384a4b59"
      },
      "execution_count": null,
      "outputs": [
        {
          "output_type": "display_data",
          "data": {
            "text/plain": [
              "<Figure size 1296x720 with 1 Axes>"
            ],
            "image/png": "[encoded data removed]"
          },
          "metadata": {
            "needs_background": "light"
          }
        }
      ]
    },
    {
      "cell_type": "markdown",
      "source": [
        "# DCNN"
      ],
      "metadata": {
        "id": "6stoWvIVh1Ts"
      }
    },
    {
      "cell_type": "code",
      "source": [
        "deep_cnn = tf.keras.Sequential([\n",
        "        # Convolution Feature Extraction\n",
        "        tf.keras.layers.Conv2D(\n",
        "           filters=32, kernel_size=(3,3),\n",
        "           strides=(1,1), activation='relu',\n",
        "           input_shape=(228, 228, 3), padding='same'\n",
        "        ), \n",
        "        # Dimesionality Reduction\n",
        "        tf.keras.layers.MaxPool2D(\n",
        "           pool_size=(2,2), strides=(1,1), padding='same'\n",
        "        ),\n",
        "\n",
        "        tf.keras.layers.Conv2D(\n",
        "           filters=64, kernel_size=(4,4),\n",
        "           strides=(2,3), activation='relu',\n",
        "           padding='same'\n",
        "        ), \n",
        "        # Dimesionality Reduction\n",
        "        tf.keras.layers.MaxPool2D(\n",
        "           pool_size=(2,2), strides=(1,1), padding='same'\n",
        "        ),\n",
        "\n",
        "        # Batch Normalization\n",
        "        tf.keras.layers.BatchNormalization(),\n",
        "        tf.keras.layers.Flatten(),\n",
        "\n",
        "        # fully Connected Network\n",
        "        tf.keras.layers.Dense(units=128, activation='relu'),\n",
        "        tf.keras.layers.Dropout(rate=0.5, seed=42),\n",
        "        tf.keras.layers.Dense(units=64, activation='relu'),\n",
        "        tf.keras.layers.Dense(units=3, activation='softmax')\n",
        "])"
      ],
      "metadata": {
        "id": "PWaRZBZzhwRr"
      },
      "execution_count": null,
      "outputs": []
    },
    {
      "cell_type": "code",
      "source": [
        "deep_cnn.compile(\n",
        "    optimizer='adam',\n",
        "    loss='categorical_crossentropy',\n",
        "    metrics=['accuracy']\n",
        ")"
      ],
      "metadata": {
        "id": "FdiJUe2_iKcY"
      },
      "execution_count": null,
      "outputs": []
    },
    {
      "cell_type": "code",
      "source": [
        "with tf.device('/device:GPU:0'):\n",
        "    deep_cnn.fit(\n",
        "        train_images, \n",
        "        epochs=25,\n",
        "        validation_data=valid_images\n",
        "    )"
      ],
      "metadata": {
        "colab": {
          "base_uri": "https://localhost:8080/"
        },
        "id": "boGCGpcmiPKs",
        "outputId": "c50eca03-335f-47e0-d992-bfa7250493a0"
      },
      "execution_count": null,
      "outputs": [
        {
          "output_type": "stream",
          "name": "stdout",
          "text": [
            "Epoch 1/25\n",
            "34/34 [==============================] - 8s 220ms/step - loss: 15.4895 - accuracy: 0.4455 - val_loss: 5.5654 - val_accuracy: 0.3417\n",
            "Epoch 2/25\n",
            "34/34 [==============================] - 7s 202ms/step - loss: 2.2693 - accuracy: 0.4464 - val_loss: 1.2307 - val_accuracy: 0.3500\n",
            "Epoch 3/25\n",
            "34/34 [==============================] - 8s 239ms/step - loss: 1.3275 - accuracy: 0.3956 - val_loss: 1.0306 - val_accuracy: 0.4000\n",
            "Epoch 4/25\n",
            "34/34 [==============================] - 7s 200ms/step - loss: 1.1316 - accuracy: 0.4076 - val_loss: 1.0265 - val_accuracy: 0.3750\n",
            "Epoch 5/25\n",
            "34/34 [==============================] - 7s 202ms/step - loss: 1.0539 - accuracy: 0.4205 - val_loss: 1.0280 - val_accuracy: 0.4583\n",
            "Epoch 6/25\n",
            "34/34 [==============================] - 7s 201ms/step - loss: 1.0039 - accuracy: 0.4501 - val_loss: 1.2621 - val_accuracy: 0.3667\n",
            "Epoch 7/25\n",
            "34/34 [==============================] - 7s 203ms/step - loss: 0.9824 - accuracy: 0.4741 - val_loss: 0.9922 - val_accuracy: 0.4333\n",
            "Epoch 8/25\n",
            "34/34 [==============================] - 7s 202ms/step - loss: 1.0196 - accuracy: 0.5009 - val_loss: 1.0489 - val_accuracy: 0.4000\n",
            "Epoch 9/25\n",
            "34/34 [==============================] - 7s 199ms/step - loss: 1.0008 - accuracy: 0.4686 - val_loss: 1.0290 - val_accuracy: 0.4167\n",
            "Epoch 10/25\n",
            "34/34 [==============================] - 7s 202ms/step - loss: 0.9925 - accuracy: 0.4852 - val_loss: 0.9636 - val_accuracy: 0.4500\n",
            "Epoch 11/25\n",
            "34/34 [==============================] - 7s 203ms/step - loss: 0.9535 - accuracy: 0.4908 - val_loss: 0.9046 - val_accuracy: 0.5333\n",
            "Epoch 12/25\n",
            "34/34 [==============================] - 7s 202ms/step - loss: 1.0085 - accuracy: 0.4917 - val_loss: 0.9962 - val_accuracy: 0.4250\n",
            "Epoch 13/25\n",
            "34/34 [==============================] - 7s 202ms/step - loss: 0.9334 - accuracy: 0.4935 - val_loss: 0.9244 - val_accuracy: 0.5167\n",
            "Epoch 14/25\n",
            "34/34 [==============================] - 7s 206ms/step - loss: 0.9595 - accuracy: 0.5305 - val_loss: 51.8617 - val_accuracy: 0.3333\n",
            "Epoch 15/25\n",
            "34/34 [==============================] - 7s 202ms/step - loss: 0.9694 - accuracy: 0.4972 - val_loss: 0.9724 - val_accuracy: 0.4917\n",
            "Epoch 16/25\n",
            "34/34 [==============================] - 7s 201ms/step - loss: 0.9572 - accuracy: 0.5166 - val_loss: 4.7447 - val_accuracy: 0.4333\n",
            "Epoch 17/25\n",
            "34/34 [==============================] - 7s 205ms/step - loss: 0.9494 - accuracy: 0.4834 - val_loss: 5.4512 - val_accuracy: 0.4250\n",
            "Epoch 18/25\n",
            "34/34 [==============================] - 7s 204ms/step - loss: 0.9289 - accuracy: 0.5139 - val_loss: 1.9582 - val_accuracy: 0.4500\n",
            "Epoch 19/25\n",
            "34/34 [==============================] - 7s 201ms/step - loss: 0.9438 - accuracy: 0.5065 - val_loss: 1.2038 - val_accuracy: 0.5250\n",
            "Epoch 20/25\n",
            "34/34 [==============================] - 7s 197ms/step - loss: 0.9031 - accuracy: 0.5416 - val_loss: 0.7761 - val_accuracy: 0.6167\n",
            "Epoch 21/25\n",
            "34/34 [==============================] - 7s 197ms/step - loss: 0.9148 - accuracy: 0.5259 - val_loss: 1.2856 - val_accuracy: 0.5167\n",
            "Epoch 22/25\n",
            "34/34 [==============================] - 7s 198ms/step - loss: 0.9071 - accuracy: 0.5139 - val_loss: 3.1984 - val_accuracy: 0.3667\n",
            "Epoch 23/25\n",
            "34/34 [==============================] - 7s 205ms/step - loss: 0.8975 - accuracy: 0.5314 - val_loss: 1.1974 - val_accuracy: 0.5750\n",
            "Epoch 24/25\n",
            "34/34 [==============================] - 7s 204ms/step - loss: 1.0009 - accuracy: 0.5028 - val_loss: 1.1054 - val_accuracy: 0.4833\n",
            "Epoch 25/25\n",
            "34/34 [==============================] - 7s 200ms/step - loss: 1.0322 - accuracy: 0.4205 - val_loss: 1.1305 - val_accuracy: 0.4500\n"
          ]
        }
      ]
    },
    {
      "cell_type": "code",
      "source": [
        "hist = pd.DataFrame(deep_cnn.history.history)\n",
        "hist"
      ],
      "metadata": {
        "colab": {
          "base_uri": "https://localhost:8080/",
          "height": 833
        },
        "id": "jSjvSUgwjHMa",
        "outputId": "948c9f79-ed3e-4f5f-9c98-d476e331d655"
      },
      "execution_count": null,
      "outputs": [
        {
          "output_type": "execute_result",
          "data": {
            "text/plain": [
              "         loss  accuracy   val_loss  val_accuracy\n",
              "0   13.816133  0.627542  10.393582      0.333333\n",
              "1    1.024853  0.746765   8.940322      0.333333\n",
              "2    0.687765  0.783734   7.147178      0.333333\n",
              "3    0.427821  0.829020   4.293419      0.375000\n",
              "4    0.320108  0.873383   1.093925      0.541667\n",
              "5    0.258252  0.893715   0.461415      0.875000\n",
              "6    0.315161  0.904806   0.456195      0.783333\n",
              "7    0.244566  0.900185  33.933453      0.358333\n",
              "8    0.209562  0.912200   0.171592      0.966667\n",
              "9    0.218298  0.919593   1.163677      0.766667\n",
              "10   0.178832  0.926987   0.119171      0.958333\n",
              "11   0.268513  0.899261   0.860274      0.916667\n",
              "12   0.175174  0.930684   0.635081      0.650000\n",
              "13   0.183918  0.937153   1.946972      0.683333\n",
              "14   0.154846  0.946396   0.229456      0.925000\n",
              "15   0.203870  0.938078  24.667347      0.441667\n",
              "16   0.144324  0.944547   1.585721      0.866667\n",
              "17   0.104399  0.957486   0.589698      0.900000\n",
              "18   0.061666  0.971349   0.827659      0.908333\n",
              "19   0.115558  0.963956   7.206416      0.650000\n",
              "20   0.218908  0.933457  46.809841      0.566667\n",
              "21   0.160220  0.946396   1.573901      0.791667\n",
              "22   0.152362  0.956562   0.060637      0.991667\n",
              "23   0.102413  0.963031   1.260817      0.800000\n",
              "24   0.093472  0.966728   0.294042      0.975000"
            ],
            "text/html": [
              "\n",
              "  <div id=\"df-6b34e67d-8fff-4d4d-9fd6-bb03720b8a3e\">\n",
              "    <div class=\"colab-df-container\">\n",
              "      <div>\n",
              "<style scoped>\n",
              "    .dataframe tbody tr th:only-of-type {\n",
              "        vertical-align: middle;\n",
              "    }\n",
              "\n",
              "    .dataframe tbody tr th {\n",
              "        vertical-align: top;\n",
              "    }\n",
              "\n",
              "    .dataframe thead th {\n",
              "        text-align: right;\n",
              "    }\n",
              "</style>\n",
              "<table border=\"1\" class=\"dataframe\">\n",
              "  <thead>\n",
              "    <tr style=\"text-align: right;\">\n",
              "      <th></th>\n",
              "      <th>loss</th>\n",
              "      <th>accuracy</th>\n",
              "      <th>val_loss</th>\n",
              "      <th>val_accuracy</th>\n",
              "    </tr>\n",
              "  </thead>\n",
              "  <tbody>\n",
              "    <tr>\n",
              "      <th>0</th>\n",
              "      <td>13.816133</td>\n",
              "      <td>0.627542</td>\n",
              "      <td>10.393582</td>\n",
              "      <td>0.333333</td>\n",
              "    </tr>\n",
              "    <tr>\n",
              "      <th>1</th>\n",
              "      <td>1.024853</td>\n",
              "      <td>0.746765</td>\n",
              "      <td>8.940322</td>\n",
              "      <td>0.333333</td>\n",
              "    </tr>\n",
              "    <tr>\n",
              "      <th>2</th>\n",
              "      <td>0.687765</td>\n",
              "      <td>0.783734</td>\n",
              "      <td>7.147178</td>\n",
              "      <td>0.333333</td>\n",
              "    </tr>\n",
              "    <tr>\n",
              "      <th>3</th>\n",
              "      <td>0.427821</td>\n",
              "      <td>0.829020</td>\n",
              "      <td>4.293419</td>\n",
              "      <td>0.375000</td>\n",
              "    </tr>\n",
              "    <tr>\n",
              "      <th>4</th>\n",
              "      <td>0.320108</td>\n",
              "      <td>0.873383</td>\n",
              "      <td>1.093925</td>\n",
              "      <td>0.541667</td>\n",
              "    </tr>\n",
              "    <tr>\n",
              "      <th>5</th>\n",
              "      <td>0.258252</td>\n",
              "      <td>0.893715</td>\n",
              "      <td>0.461415</td>\n",
              "      <td>0.875000</td>\n",
              "    </tr>\n",
              "    <tr>\n",
              "      <th>6</th>\n",
              "      <td>0.315161</td>\n",
              "      <td>0.904806</td>\n",
              "      <td>0.456195</td>\n",
              "      <td>0.783333</td>\n",
              "    </tr>\n",
              "    <tr>\n",
              "      <th>7</th>\n",
              "      <td>0.244566</td>\n",
              "      <td>0.900185</td>\n",
              "      <td>33.933453</td>\n",
              "      <td>0.358333</td>\n",
              "    </tr>\n",
              "    <tr>\n",
              "      <th>8</th>\n",
              "      <td>0.209562</td>\n",
              "      <td>0.912200</td>\n",
              "      <td>0.171592</td>\n",
              "      <td>0.966667</td>\n",
              "    </tr>\n",
              "    <tr>\n",
              "      <th>9</th>\n",
              "      <td>0.218298</td>\n",
              "      <td>0.919593</td>\n",
              "      <td>1.163677</td>\n",
              "      <td>0.766667</td>\n",
              "    </tr>\n",
              "    <tr>\n",
              "      <th>10</th>\n",
              "      <td>0.178832</td>\n",
              "      <td>0.926987</td>\n",
              "      <td>0.119171</td>\n",
              "      <td>0.958333</td>\n",
              "    </tr>\n",
              "    <tr>\n",
              "      <th>11</th>\n",
              "      <td>0.268513</td>\n",
              "      <td>0.899261</td>\n",
              "      <td>0.860274</td>\n",
              "      <td>0.916667</td>\n",
              "    </tr>\n",
              "    <tr>\n",
              "      <th>12</th>\n",
              "      <td>0.175174</td>\n",
              "      <td>0.930684</td>\n",
              "      <td>0.635081</td>\n",
              "      <td>0.650000</td>\n",
              "    </tr>\n",
              "    <tr>\n",
              "      <th>13</th>\n",
              "      <td>0.183918</td>\n",
              "      <td>0.937153</td>\n",
              "      <td>1.946972</td>\n",
              "      <td>0.683333</td>\n",
              "    </tr>\n",
              "    <tr>\n",
              "      <th>14</th>\n",
              "      <td>0.154846</td>\n",
              "      <td>0.946396</td>\n",
              "      <td>0.229456</td>\n",
              "      <td>0.925000</td>\n",
              "    </tr>\n",
              "    <tr>\n",
              "      <th>15</th>\n",
              "      <td>0.203870</td>\n",
              "      <td>0.938078</td>\n",
              "      <td>24.667347</td>\n",
              "      <td>0.441667</td>\n",
              "    </tr>\n",
              "    <tr>\n",
              "      <th>16</th>\n",
              "      <td>0.144324</td>\n",
              "      <td>0.944547</td>\n",
              "      <td>1.585721</td>\n",
              "      <td>0.866667</td>\n",
              "    </tr>\n",
              "    <tr>\n",
              "      <th>17</th>\n",
              "      <td>0.104399</td>\n",
              "      <td>0.957486</td>\n",
              "      <td>0.589698</td>\n",
              "      <td>0.900000</td>\n",
              "    </tr>\n",
              "    <tr>\n",
              "      <th>18</th>\n",
              "      <td>0.061666</td>\n",
              "      <td>0.971349</td>\n",
              "      <td>0.827659</td>\n",
              "      <td>0.908333</td>\n",
              "    </tr>\n",
              "    <tr>\n",
              "      <th>19</th>\n",
              "      <td>0.115558</td>\n",
              "      <td>0.963956</td>\n",
              "      <td>7.206416</td>\n",
              "      <td>0.650000</td>\n",
              "    </tr>\n",
              "    <tr>\n",
              "      <th>20</th>\n",
              "      <td>0.218908</td>\n",
              "      <td>0.933457</td>\n",
              "      <td>46.809841</td>\n",
              "      <td>0.566667</td>\n",
              "    </tr>\n",
              "    <tr>\n",
              "      <th>21</th>\n",
              "      <td>0.160220</td>\n",
              "      <td>0.946396</td>\n",
              "      <td>1.573901</td>\n",
              "      <td>0.791667</td>\n",
              "    </tr>\n",
              "    <tr>\n",
              "      <th>22</th>\n",
              "      <td>0.152362</td>\n",
              "      <td>0.956562</td>\n",
              "      <td>0.060637</td>\n",
              "      <td>0.991667</td>\n",
              "    </tr>\n",
              "    <tr>\n",
              "      <th>23</th>\n",
              "      <td>0.102413</td>\n",
              "      <td>0.963031</td>\n",
              "      <td>1.260817</td>\n",
              "      <td>0.800000</td>\n",
              "    </tr>\n",
              "    <tr>\n",
              "      <th>24</th>\n",
              "      <td>0.093472</td>\n",
              "      <td>0.966728</td>\n",
              "      <td>0.294042</td>\n",
              "      <td>0.975000</td>\n",
              "    </tr>\n",
              "  </tbody>\n",
              "</table>\n",
              "</div>\n",
              "      <button class=\"colab-df-convert\" onclick=\"convertToInteractive('df-6b34e67d-8fff-4d4d-9fd6-bb03720b8a3e')\"\n",
              "              title=\"Convert this dataframe to an interactive table.\"\n",
              "              style=\"display:none;\">\n",
              "        \n",
              "  <svg xmlns=\"http://www.w3.org/2000/svg\" height=\"24px\"viewBox=\"0 0 24 24\"\n",
              "       width=\"24px\">\n",
              "    <path d=\"M0 0h24v24H0V0z\" fill=\"none\"/>\n",
              "    <path d=\"M18.56 5.44l.94 2.06.94-2.06 2.06-.94-2.06-.94-.94-2.06-.94 2.06-2.06.94zm-11 1L8.5 8.5l.94-2.06 2.06-.94-2.06-.94L8.5 2.5l-.94 2.06-2.06.94zm10 10l.94 2.06.94-2.06 2.06-.94-2.06-.94-.94-2.06-.94 2.06-2.06.94z\"/><path d=\"M17.41 7.96l-1.37-1.37c-.4-.4-.92-.59-1.43-.59-.52 0-1.04.2-1.43.59L10.3 9.45l-7.72 7.72c-.78.78-.78 2.05 0 2.83L4 21.41c.39.39.9.59 1.41.59.51 0 1.02-.2 1.41-.59l7.78-7.78 2.81-2.81c.8-.78.8-2.07 0-2.86zM5.41 20L4 18.59l7.72-7.72 1.47 1.35L5.41 20z\"/>\n",
              "  </svg>\n",
              "      </button>\n",
              "      \n",
              "  <style>\n",
              "    .colab-df-container {\n",
              "      display:flex;\n",
              "      flex-wrap:wrap;\n",
              "      gap: 12px;\n",
              "    }\n",
              "\n",
              "    .colab-df-convert {\n",
              "      background-color: #E8F0FE;\n",
              "      border: none;\n",
              "      border-radius: 50%;\n",
              "      cursor: pointer;\n",
              "      display: none;\n",
              "      fill: #1967D2;\n",
              "      height: 32px;\n",
              "      padding: 0 0 0 0;\n",
              "      width: 32px;\n",
              "    }\n",
              "\n",
              "    .colab-df-convert:hover {\n",
              "      background-color: #E2EBFA;\n",
              "      box-shadow: 0px 1px 2px rgba(60, 64, 67, 0.3), 0px 1px 3px 1px rgba(60, 64, 67, 0.15);\n",
              "      fill: #174EA6;\n",
              "    }\n",
              "\n",
              "    [theme=dark] .colab-df-convert {\n",
              "      background-color: #3B4455;\n",
              "      fill: #D2E3FC;\n",
              "    }\n",
              "\n",
              "    [theme=dark] .colab-df-convert:hover {\n",
              "      background-color: #434B5C;\n",
              "      box-shadow: 0px 1px 3px 1px rgba(0, 0, 0, 0.15);\n",
              "      filter: drop-shadow(0px 1px 2px rgba(0, 0, 0, 0.3));\n",
              "      fill: #FFFFFF;\n",
              "    }\n",
              "  </style>\n",
              "\n",
              "      <script>\n",
              "        const buttonEl =\n",
              "          document.querySelector('#df-6b34e67d-8fff-4d4d-9fd6-bb03720b8a3e button.colab-df-convert');\n",
              "        buttonEl.style.display =\n",
              "          google.colab.kernel.accessAllowed ? 'block' : 'none';\n",
              "\n",
              "        async function convertToInteractive(key) {\n",
              "          const element = document.querySelector('#df-6b34e67d-8fff-4d4d-9fd6-bb03720b8a3e');\n",
              "          const dataTable =\n",
              "            await google.colab.kernel.invokeFunction('convertToInteractive',\n",
              "                                                     [key], {});\n",
              "          if (!dataTable) return;\n",
              "\n",
              "          const docLinkHtml = 'Like what you see? Visit the ' +\n",
              "            '<a target=\"_blank\" href=https://colab.research.google.com/notebooks/data_table.ipynb>data table notebook</a>'\n",
              "            + ' to learn more about interactive tables.';\n",
              "          element.innerHTML = '';\n",
              "          dataTable['output_type'] = 'display_data';\n",
              "          await google.colab.output.renderOutput(dataTable, element);\n",
              "          const docLink = document.createElement('div');\n",
              "          docLink.innerHTML = docLinkHtml;\n",
              "          element.appendChild(docLink);\n",
              "        }\n",
              "      </script>\n",
              "    </div>\n",
              "  </div>\n",
              "  "
            ]
          },
          "metadata": {},
          "execution_count": 32
        }
      ]
    },
    {
      "cell_type": "code",
      "source": [
        "plotLoss(hist)"
      ],
      "metadata": {
        "colab": {
          "base_uri": "https://localhost:8080/",
          "height": 592
        },
        "id": "Lv0dkIfbjOso",
        "outputId": "77ce4c16-50ab-44d0-f97e-21a9ff3b5185"
      },
      "execution_count": null,
      "outputs": [
        {
          "output_type": "display_data",
          "data": {
            "text/plain": [
              "<Figure size 1296x720 with 1 Axes>"
            ],
            "image/png": "[encoded data removed]"
          },
          "metadata": {
            "needs_background": "light"
          }
        }
      ]
    },
    {
      "cell_type": "code",
      "source": [
        "plotAccuracy(hist)"
      ],
      "metadata": {
        "colab": {
          "base_uri": "https://localhost:8080/",
          "height": 592
        },
        "id": "9oV-w_V3jRqS",
        "outputId": "6e933dfb-0780-4a78-a252-736b157d3a26"
      },
      "execution_count": null,
      "outputs": [
        {
          "output_type": "display_data",
          "data": {
            "text/plain": [
              "<Figure size 1296x720 with 1 Axes>"
            ],
            "image/png": "[encoded data removed]"
          },
          "metadata": {
            "needs_background": "light"
          }
        }
      ]
    },
    {
      "cell_type": "code",
      "source": [],
      "metadata": {
        "id": "rxODlNkyjbUR"
      },
      "execution_count": null,
      "outputs": []
    }
  ]
}